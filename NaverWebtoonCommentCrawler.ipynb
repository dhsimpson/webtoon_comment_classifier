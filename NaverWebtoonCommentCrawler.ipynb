{
  "nbformat": 4,
  "nbformat_minor": 0,
  "metadata": {
    "colab": {
      "name": "NaverWebtoonCommentCrawler.ipynb",
      "provenance": [],
      "collapsed_sections": []
    },
    "kernelspec": {
      "name": "python3",
      "display_name": "Python 3"
    }
  },
  "cells": [
    {
      "cell_type": "code",
      "metadata": {
        "id": "yZfpx8I9WZPf",
        "colab_type": "code",
        "colab": {
          "base_uri": "https://localhost:8080/",
          "height": 1000
        },
        "outputId": "a42313d1-0219-416b-f9e7-11dcc40b2bdd"
      },
      "source": [
        "!pip install selenium\n",
        "!apt-get update # to update ubuntu to correctly run apt install\n",
        "!apt install chromium-chromedriver\n",
        "!cp /usr/lib/chromium-browser/chromedriver /usr/bin"
      ],
      "execution_count": null,
      "outputs": [
        {
          "output_type": "stream",
          "text": [
            "Collecting selenium\n",
            "\u001b[?25l  Downloading https://files.pythonhosted.org/packages/80/d6/4294f0b4bce4de0abf13e17190289f9d0613b0a44e5dd6a7f5ca98459853/selenium-3.141.0-py2.py3-none-any.whl (904kB)\n",
            "\u001b[K     |████████████████████████████████| 911kB 4.2MB/s \n",
            "\u001b[?25hRequirement already satisfied: urllib3 in /usr/local/lib/python3.6/dist-packages (from selenium) (1.24.3)\n",
            "Installing collected packages: selenium\n",
            "Successfully installed selenium-3.141.0\n",
            "Get:1 https://cloud.r-project.org/bin/linux/ubuntu bionic-cran35/ InRelease [3,626 B]\n",
            "Ign:2 https://developer.download.nvidia.com/compute/cuda/repos/ubuntu1804/x86_64  InRelease\n",
            "Ign:3 https://developer.download.nvidia.com/compute/machine-learning/repos/ubuntu1804/x86_64  InRelease\n",
            "Hit:4 https://developer.download.nvidia.com/compute/cuda/repos/ubuntu1804/x86_64  Release\n",
            "Get:5 https://developer.download.nvidia.com/compute/machine-learning/repos/ubuntu1804/x86_64  Release [564 B]\n",
            "Get:6 https://developer.download.nvidia.com/compute/machine-learning/repos/ubuntu1804/x86_64  Release.gpg [833 B]\n",
            "Get:7 http://security.ubuntu.com/ubuntu bionic-security InRelease [88.7 kB]\n",
            "Get:8 https://cloud.r-project.org/bin/linux/ubuntu bionic-cran35/ Packages [95.7 kB]\n",
            "Hit:9 http://archive.ubuntu.com/ubuntu bionic InRelease\n",
            "Get:10 http://ppa.launchpad.net/graphics-drivers/ppa/ubuntu bionic InRelease [21.3 kB]\n",
            "Get:11 http://archive.ubuntu.com/ubuntu bionic-updates InRelease [88.7 kB]\n",
            "Get:13 https://developer.download.nvidia.com/compute/machine-learning/repos/ubuntu1804/x86_64  Packages [47.5 kB]\n",
            "Get:14 http://ppa.launchpad.net/marutter/c2d4u3.5/ubuntu bionic InRelease [15.4 kB]\n",
            "Get:15 http://archive.ubuntu.com/ubuntu bionic-backports InRelease [74.6 kB]\n",
            "Get:16 http://ppa.launchpad.net/graphics-drivers/ppa/ubuntu bionic/main amd64 Packages [43.0 kB]\n",
            "Get:17 http://security.ubuntu.com/ubuntu bionic-security/restricted amd64 Packages [116 kB]\n",
            "Get:18 http://security.ubuntu.com/ubuntu bionic-security/main amd64 Packages [1,089 kB]\n",
            "Get:19 http://archive.ubuntu.com/ubuntu bionic-updates/restricted amd64 Packages [132 kB]\n",
            "Get:20 http://ppa.launchpad.net/marutter/c2d4u3.5/ubuntu bionic/main Sources [1,864 kB]\n",
            "Get:21 http://archive.ubuntu.com/ubuntu bionic-updates/universe amd64 Packages [1,425 kB]\n",
            "Get:22 http://security.ubuntu.com/ubuntu bionic-security/multiverse amd64 Packages [10.1 kB]\n",
            "Get:23 http://security.ubuntu.com/ubuntu bionic-security/universe amd64 Packages [897 kB]\n",
            "Get:24 http://archive.ubuntu.com/ubuntu bionic-updates/multiverse amd64 Packages [27.7 kB]\n",
            "Get:25 http://archive.ubuntu.com/ubuntu bionic-updates/main amd64 Packages [1,384 kB]\n",
            "Get:26 http://ppa.launchpad.net/marutter/c2d4u3.5/ubuntu bionic/main amd64 Packages [900 kB]\n",
            "Fetched 8,326 kB in 4s (1,943 kB/s)\n",
            "Reading package lists... Done\n",
            "Reading package lists... Done\n",
            "Building dependency tree       \n",
            "Reading state information... Done\n",
            "The following package was automatically installed and is no longer required:\n",
            "  libnvidia-common-440\n",
            "Use 'apt autoremove' to remove it.\n",
            "The following additional packages will be installed:\n",
            "  chromium-browser chromium-browser-l10n chromium-codecs-ffmpeg-extra\n",
            "Suggested packages:\n",
            "  webaccounts-chromium-extension unity-chromium-extension adobe-flashplugin\n",
            "The following NEW packages will be installed:\n",
            "  chromium-browser chromium-browser-l10n chromium-chromedriver\n",
            "  chromium-codecs-ffmpeg-extra\n",
            "0 upgraded, 4 newly installed, 0 to remove and 77 not upgraded.\n",
            "Need to get 79.2 MB of archives.\n",
            "After this operation, 268 MB of additional disk space will be used.\n",
            "Get:1 http://archive.ubuntu.com/ubuntu bionic-updates/universe amd64 chromium-codecs-ffmpeg-extra amd64 85.0.4183.83-0ubuntu0.18.04.2 [1,118 kB]\n",
            "Get:2 http://archive.ubuntu.com/ubuntu bionic-updates/universe amd64 chromium-browser amd64 85.0.4183.83-0ubuntu0.18.04.2 [70.3 MB]\n",
            "Get:3 http://archive.ubuntu.com/ubuntu bionic-updates/universe amd64 chromium-browser-l10n all 85.0.4183.83-0ubuntu0.18.04.2 [3,431 kB]\n",
            "Get:4 http://archive.ubuntu.com/ubuntu bionic-updates/universe amd64 chromium-chromedriver amd64 85.0.4183.83-0ubuntu0.18.04.2 [4,412 kB]\n",
            "Fetched 79.2 MB in 5s (15.2 MB/s)\n",
            "Selecting previously unselected package chromium-codecs-ffmpeg-extra.\n",
            "(Reading database ... 144579 files and directories currently installed.)\n",
            "Preparing to unpack .../chromium-codecs-ffmpeg-extra_85.0.4183.83-0ubuntu0.18.04.2_amd64.deb ...\n",
            "Unpacking chromium-codecs-ffmpeg-extra (85.0.4183.83-0ubuntu0.18.04.2) ...\n",
            "Selecting previously unselected package chromium-browser.\n",
            "Preparing to unpack .../chromium-browser_85.0.4183.83-0ubuntu0.18.04.2_amd64.deb ...\n",
            "Unpacking chromium-browser (85.0.4183.83-0ubuntu0.18.04.2) ...\n",
            "Selecting previously unselected package chromium-browser-l10n.\n",
            "Preparing to unpack .../chromium-browser-l10n_85.0.4183.83-0ubuntu0.18.04.2_all.deb ...\n",
            "Unpacking chromium-browser-l10n (85.0.4183.83-0ubuntu0.18.04.2) ...\n",
            "Selecting previously unselected package chromium-chromedriver.\n",
            "Preparing to unpack .../chromium-chromedriver_85.0.4183.83-0ubuntu0.18.04.2_amd64.deb ...\n",
            "Unpacking chromium-chromedriver (85.0.4183.83-0ubuntu0.18.04.2) ...\n",
            "Setting up chromium-codecs-ffmpeg-extra (85.0.4183.83-0ubuntu0.18.04.2) ...\n",
            "Setting up chromium-browser (85.0.4183.83-0ubuntu0.18.04.2) ...\n",
            "update-alternatives: using /usr/bin/chromium-browser to provide /usr/bin/x-www-browser (x-www-browser) in auto mode\n",
            "update-alternatives: using /usr/bin/chromium-browser to provide /usr/bin/gnome-www-browser (gnome-www-browser) in auto mode\n",
            "Setting up chromium-chromedriver (85.0.4183.83-0ubuntu0.18.04.2) ...\n",
            "Setting up chromium-browser-l10n (85.0.4183.83-0ubuntu0.18.04.2) ...\n",
            "Processing triggers for hicolor-icon-theme (0.17-2) ...\n",
            "Processing triggers for mime-support (3.60ubuntu1) ...\n",
            "Processing triggers for man-db (2.8.3-2ubuntu0.1) ...\n",
            "cp: '/usr/lib/chromium-browser/chromedriver' and '/usr/bin/chromedriver' are the same file\n"
          ],
          "name": "stdout"
        }
      ]
    },
    {
      "cell_type": "code",
      "metadata": {
        "id": "LiSEpRpGYiJI",
        "colab_type": "code",
        "colab": {}
      },
      "source": [
        "import sys\n",
        "sys.path.insert(0,'/usr/lib/chromium-browser/chromedriver')"
      ],
      "execution_count": null,
      "outputs": []
    },
    {
      "cell_type": "code",
      "metadata": {
        "id": "OQytcZdxYx41",
        "colab_type": "code",
        "colab": {}
      },
      "source": [
        "from selenium import webdriver\n",
        "chrome_options = webdriver.ChromeOptions()\n",
        "chrome_options.add_argument('--headless')\n",
        "chrome_options.add_argument('--no-sandbox')\n",
        "chrome_options.add_argument('--disable-dev-shm-usage')"
      ],
      "execution_count": null,
      "outputs": []
    },
    {
      "cell_type": "code",
      "metadata": {
        "id": "5w5QZudLlYaX",
        "colab_type": "code",
        "colab": {}
      },
      "source": [
        "import requests\n",
        "from bs4 import BeautifulSoup"
      ],
      "execution_count": null,
      "outputs": []
    },
    {
      "cell_type": "code",
      "metadata": {
        "id": "5bNSZkzzXkUZ",
        "colab_type": "code",
        "colab": {}
      },
      "source": [
        "#driver 실행\n",
        "def drive(url):\n",
        "    driver = webdriver.Chrome('chromedriver',chrome_options=chrome_options) #driver 객체 불러옴\n",
        "    driver.implicitly_wait(3) # 3초 후에 작동하도록\n",
        "    driver.get(url) #url에 접속\n",
        "    html = driver.page_source #현재 driver에 나타난 창의 page_source(html) 가져오기\n",
        "    soup = BeautifulSoup(html, 'html.parser') #html 파싱(parsing)을 위해 BeautifulSoup에 넘겨주기\n",
        "    return driver, soup"
      ],
      "execution_count": null,
      "outputs": []
    },
    {
      "cell_type": "code",
      "metadata": {
        "id": "LiOAlT-pl8Vd",
        "colab_type": "code",
        "colab": {}
      },
      "source": [
        "#  class 명이 title 인 a 테그를 가져와 모든 요일 별 웹툰의 제목과 링크만 추출해낸다.\n",
        "def webtoon_link_list(soup):\n",
        "  class_title_a_list = soup.select(\"a.title\")\n",
        "  title_list = []\n",
        "  for a in class_title_a_list:\n",
        "    a_href = a.get('href') # 테그 안의 내용을 가져온다(인자로 'href'속성을 사용했다)\n",
        "    a_text = a.get_text() #\n",
        "    result = (a_text,f'https://comic.naver.com/{a_href}')\n",
        "    title_list.append(result)\n",
        "  return title_list"
      ],
      "execution_count": null,
      "outputs": []
    },
    {
      "cell_type": "code",
      "metadata": {
        "id": "d_VRX9TTtUFH",
        "colab_type": "code",
        "colab": {}
      },
      "source": [
        "# soup 테이블 테그로 부터 해당 웹툰 의 회차 리스트를 가져오는 함수\n",
        "def get_link(soup):\n",
        "  table_list = soup.select(\"td.title\")\n",
        "  episode_list = []\n",
        "  for table in table_list:\n",
        "    link = table.select(\"a\")[0].get('href')\n",
        "    episode_list.append(f'https://comic.naver.com{link}')\n",
        "  return episode_list"
      ],
      "execution_count": null,
      "outputs": []
    },
    {
      "cell_type": "code",
      "metadata": {
        "id": "D1gJvXbE2AB8",
        "colab_type": "code",
        "colab": {}
      },
      "source": [
        "# 웹툰 모든 회차의 링크를 가져오는 함수\n",
        "def get_link_list(title_list):\n",
        "  link_list=[]\n",
        "  # 웹툰 리스트에서 웹툰 하나당 처리\n",
        "  for title in title_list:\n",
        "    webtoon = requests.get(title[1])\n",
        "    soup = BeautifulSoup(webtoon.text, 'html.parser')\n",
        "    # 해당 웹툰의 첫 페이지에 실린 회차들 링크를 가져옴\n",
        "    link_list += get_link(soup)\n",
        "  return link_list"
      ],
      "execution_count": null,
      "outputs": []
    },
    {
      "cell_type": "code",
      "metadata": {
        "id": "SgeEJL04PADz",
        "colab_type": "code",
        "colab": {}
      },
      "source": [
        "# 한 에피소드에서 댓글을 크롤링 하는 함수\n",
        "def get_comment_link(link):\n",
        "  titleId = link.split('titleId=')[1].split('&')[0]\n",
        "  no = link.split('no=')[1].split('&')[0]\n",
        "  return f'https://comic.naver.com/comment/comment.nhn?titleId={titleId}&no={no}'"
      ],
      "execution_count": null,
      "outputs": []
    },
    {
      "cell_type": "code",
      "metadata": {
        "id": "FoVi7aw7ihS1",
        "colab_type": "code",
        "colab": {}
      },
      "source": [
        "# 댓글 iframe html에서 댓글 리스트 반환하는 함수\n",
        "def get_comments(driver,link):\n",
        "  comments = []\n",
        "  driver.get(link)\n",
        "  html = driver.page_source\n",
        "  soup = BeautifulSoup(html, 'html.parser')\n",
        "  raw = soup.select('.u_cbox_contents')\n",
        "  for r in raw:\n",
        "    comments.append(r.text)\n",
        "  return comments"
      ],
      "execution_count": null,
      "outputs": []
    },
    {
      "cell_type": "code",
      "metadata": {
        "id": "QHQM2Yev7ONh",
        "colab_type": "code",
        "colab": {}
      },
      "source": [
        "# 댓글 크롤링 함수를 이용해 link list로 부터 모든 댓글을 크롤링 해온다.\n",
        "def comments_all_episode(link_list):\n",
        "  base_link='https://comic.naver.com/webtoon/weekday.nhn'\n",
        "  driver,_ = drive(base_link)\n",
        "  comments_list=[]\n",
        "  for episode in link_list:\n",
        "    link = get_comment_link(episode)\n",
        "    comments_list += get_comments(driver,link)\n",
        "  return comments_list"
      ],
      "execution_count": null,
      "outputs": []
    },
    {
      "cell_type": "code",
      "metadata": {
        "id": "9_WJzasgD8WF",
        "colab_type": "code",
        "colab": {}
      },
      "source": [
        "# 데이터를 섞고 csv로 저장하는 함수\n",
        "def save_data(data):\n",
        "  import random\n",
        "  import pandas as pd\n",
        "  random.shuffle(cmts)\n",
        "  label = [0 for c in cmts]\n",
        "  df = pd.DataFrame(list(zip(cmts,label)),columns=['comment','label'] )\n",
        "  df.to_csv('webtoon_comments_unlabeled.csv',sep=',',encoding='utf-16')"
      ],
      "execution_count": null,
      "outputs": []
    },
    {
      "cell_type": "code",
      "metadata": {
        "id": "UXWADaP8loWy",
        "colab_type": "code",
        "colab": {}
      },
      "source": [
        "# 1.네이버 comics 메인 페이지로부터 html 문서를 긁어온다.(beutifulsoup를 이용)\n",
        "URL_TOTAL_LIST = 'https://comic.naver.com/webtoon/weekday.nhn'\n",
        "response = requests.get(URL_TOTAL_LIST)\n",
        "soup = BeautifulSoup(response.text, 'html.parser')"
      ],
      "execution_count": null,
      "outputs": []
    },
    {
      "cell_type": "code",
      "metadata": {
        "id": "5SgLJhuTnnfM",
        "colab_type": "code",
        "colab": {}
      },
      "source": [
        "# 2.만화 링크 리스트를 크롤링\n",
        "title_list = webtoon_link_list(soup)"
      ],
      "execution_count": null,
      "outputs": []
    },
    {
      "cell_type": "code",
      "metadata": {
        "id": "KppTSAEP39KW",
        "colab_type": "code",
        "colab": {}
      },
      "source": [
        "# 3.모든 만화의 최신 1페이지에 있는 회차 링크 리스트를 크롤링\n",
        "link_list = get_link_list(title_list)"
      ],
      "execution_count": null,
      "outputs": []
    },
    {
      "cell_type": "code",
      "metadata": {
        "id": "rcZgNAkllT-O",
        "colab_type": "code",
        "colab": {
          "base_uri": "https://localhost:8080/",
          "height": 52
        },
        "outputId": "7428ff88-93a8-4ba2-e843-7a9a01ce2838"
      },
      "source": [
        "# 4.모든 만화 모든 회차의 댓글을 크롤링\n",
        "cmts = comments_all_episode(link_list)"
      ],
      "execution_count": null,
      "outputs": [
        {
          "output_type": "stream",
          "text": [
            "/usr/local/lib/python3.6/dist-packages/ipykernel_launcher.py:3: DeprecationWarning: use options instead of chrome_options\n",
            "  This is separate from the ipykernel package so we can avoid doing imports until\n"
          ],
          "name": "stderr"
        }
      ]
    },
    {
      "cell_type": "code",
      "metadata": {
        "id": "5yZc1Mtmviw9",
        "colab_type": "code",
        "colab": {}
      },
      "source": [
        "# 중복 댓글 제거\n",
        "cmts = set(cmts)"
      ],
      "execution_count": null,
      "outputs": []
    },
    {
      "cell_type": "code",
      "metadata": {
        "id": "xkYSCe8rELFh",
        "colab_type": "code",
        "colab": {}
      },
      "source": [
        "# 데이터를 csv로 저장\n",
        "cmts=list(cmts)\n",
        "save_data(cmts)"
      ],
      "execution_count": null,
      "outputs": []
    },
    {
      "cell_type": "code",
      "metadata": {
        "id": "YDI7sY9pbx3f",
        "colab_type": "code",
        "colab": {}
      },
      "source": [
        "# csv 파일 불러오기\n",
        "import pandas as pd"
      ],
      "execution_count": null,
      "outputs": []
    },
    {
      "cell_type": "code",
      "metadata": {
        "id": "TjBxVEQhb5UD",
        "colab_type": "code",
        "colab": {}
      },
      "source": [
        "# 데이터가 올바르게 저장됐는 지 확인\n",
        "df = pd.read_csv('webtoon_comments_unlabeled.csv',encoding='utf-16')"
      ],
      "execution_count": null,
      "outputs": []
    },
    {
      "cell_type": "code",
      "metadata": {
        "id": "nohSEB43b_aA",
        "colab_type": "code",
        "colab": {
          "base_uri": "https://localhost:8080/",
          "height": 195
        },
        "outputId": "7273f433-ecd9-4be8-cbe1-b901d66ad9c5"
      },
      "source": [
        "df.head()"
      ],
      "execution_count": null,
      "outputs": [
        {
          "output_type": "execute_result",
          "data": {
            "text/html": [
              "<div>\n",
              "<style scoped>\n",
              "    .dataframe tbody tr th:only-of-type {\n",
              "        vertical-align: middle;\n",
              "    }\n",
              "\n",
              "    .dataframe tbody tr th {\n",
              "        vertical-align: top;\n",
              "    }\n",
              "\n",
              "    .dataframe thead th {\n",
              "        text-align: right;\n",
              "    }\n",
              "</style>\n",
              "<table border=\"1\" class=\"dataframe\">\n",
              "  <thead>\n",
              "    <tr style=\"text-align: right;\">\n",
              "      <th></th>\n",
              "      <th>Unnamed: 0</th>\n",
              "      <th>comment</th>\n",
              "      <th>label</th>\n",
              "    </tr>\n",
              "  </thead>\n",
              "  <tbody>\n",
              "    <tr>\n",
              "      <th>0</th>\n",
              "      <td>0</td>\n",
              "      <td>와 목숨 보장한다는 약속을 절대 깨지 못한다고?? 그러면 박윤수는 스스로 채아의 올...</td>\n",
              "      <td>0</td>\n",
              "    </tr>\n",
              "    <tr>\n",
              "      <th>1</th>\n",
              "      <td>1</td>\n",
              "      <td>희준이 여친이 푹빠질만 하네ㄷㄷ상남자네</td>\n",
              "      <td>0</td>\n",
              "    </tr>\n",
              "    <tr>\n",
              "      <th>2</th>\n",
              "      <td>2</td>\n",
              "      <td>화이팅!그리고 저는 이제 안볼려구요^^</td>\n",
              "      <td>0</td>\n",
              "    </tr>\n",
              "    <tr>\n",
              "      <th>3</th>\n",
              "      <td>3</td>\n",
              "      <td>결혼이라는 제도로 1남성에 1여성을 보급하는 비정상적인 가부장제를 벗어난 세계에서도...</td>\n",
              "      <td>0</td>\n",
              "    </tr>\n",
              "    <tr>\n",
              "      <th>4</th>\n",
              "      <td>4</td>\n",
              "      <td>제발 작가님아 미오후 뇌절좀 그만해요... 지금까지 미오후로 만화  쳐망가뜨려놓고 ...</td>\n",
              "      <td>0</td>\n",
              "    </tr>\n",
              "  </tbody>\n",
              "</table>\n",
              "</div>"
            ],
            "text/plain": [
              "   Unnamed: 0                                            comment  label\n",
              "0           0  와 목숨 보장한다는 약속을 절대 깨지 못한다고?? 그러면 박윤수는 스스로 채아의 올...      0\n",
              "1           1                              희준이 여친이 푹빠질만 하네ㄷㄷ상남자네      0\n",
              "2           2                              화이팅!그리고 저는 이제 안볼려구요^^      0\n",
              "3           3  결혼이라는 제도로 1남성에 1여성을 보급하는 비정상적인 가부장제를 벗어난 세계에서도...      0\n",
              "4           4  제발 작가님아 미오후 뇌절좀 그만해요... 지금까지 미오후로 만화  쳐망가뜨려놓고 ...      0"
            ]
          },
          "metadata": {
            "tags": []
          },
          "execution_count": 109
        }
      ]
    }
  ]
}